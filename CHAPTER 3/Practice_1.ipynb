{
 "cells": [
  {
   "cell_type": "code",
   "execution_count": 1,
   "metadata": {},
   "outputs": [],
   "source": [
    "import numpy as np\n",
    "import matplotlib.pyplot as plt\n",
    "from matplotlib.animation import FuncAnimation\n",
    "from IPython.display import HTML\n",
    "import pandas as pd"
   ]
  },
  {
   "cell_type": "code",
   "execution_count": null,
   "metadata": {},
   "outputs": [],
   "source": [
    "X = np.array([0.245, 0.247, 0.285, 0.299, 0.327, 0.347, 0.356, 0.36, 0.363, 0.364, 0.398, 0.4, 0.409, 0.421,\n",
    "              0.432, 0.473, 0.509, 0.529, 0.561, 0.569, 0.594, 0.638, 0.656, 0.816, 0.853, 0.938, 1.036, 1.045])\n",
    "Y = np.array([0, 0, 1, 1, 1, 1, 0, 1, 0, 1, 0, 1, 0, 1, 0, 1, 1, 1, 0, 0, 1, 1, 1, 1, 1, 1, 1, 1])\n",
    "theta0 = np.random.rand()\n",
    "theta1 = np.random.rand()\n",
    "alpha = 1e-4\n",
    "iterations = 100"
   ]
  },
  {
   "cell_type": "code",
   "execution_count": null,
   "metadata": {},
   "outputs": [],
   "source": [
    "# Logistic regression\n",
    "def sigmoid(X):\n",
    "    return 1 / (1+np.exp(-X))\n",
    "\n",
    "# h function\n",
    "def h(theta0, theta1, X):\n",
    "    return sigmoid(theta0 + theta1 * X)\n",
    "\n",
    "# Cost function\n",
    "def cost(X, Y, theta0, theta1, ):\n",
    "    m = len(Y)\n",
    "    return 1/(2*m) * np.sum((h(X, theta0, theta1) - Y)**2)\n",
    "\n",
    "# Gradient descent \n",
    "def gradient_descent(X, Y, theta0, theta1, alpha, iterations):\n",
    "    m = len(Y)\n",
    "    \n",
    "    for i in range(iterations):\n",
    "        grad0 = (1/m) * np.sum(h(X, theta0, theta1, theta2, theta3) - Y)\n",
    "        grad1 = (1/m) * np.sum((h(X, theta0, theta1, theta2, theta3) - Y) * X[:, 0])\n",
    "        \n",
    "        theta0 -= alpha * grad0\n",
    "        theta1 -= alpha * grad1\n",
    "\n",
    "    return theta0, theta1"
   ]
  }
 ],
 "metadata": {
  "kernelspec": {
   "display_name": "Python 3",
   "language": "python",
   "name": "python3"
  },
  "language_info": {
   "codemirror_mode": {
    "name": "ipython",
    "version": 3
   },
   "file_extension": ".py",
   "mimetype": "text/x-python",
   "name": "python",
   "nbconvert_exporter": "python",
   "pygments_lexer": "ipython3",
   "version": "3.12.6"
  }
 },
 "nbformat": 4,
 "nbformat_minor": 2
}
