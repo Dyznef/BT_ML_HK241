{
 "cells": [
  {
   "cell_type": "code",
   "execution_count": 1,
   "metadata": {},
   "outputs": [
    {
     "name": "stdout",
     "output_type": "stream",
     "text": [
      "eta = 0.1 và x0 = -5\n",
      "x* = -0.799186, costfunction = -2.549432, 4 lần lặp\n",
      "\n",
      "eta = 0.1 và x0 = 5\n",
      "x* = -0.798373, costfunction = -2.549434, 7 lần lặp\n",
      "\n",
      "eta = 0.01 và x0 = -1\n",
      "x* = -0.798630, costfunction = -2.549434, 80 lần lặp\n",
      "\n"
     ]
    }
   ],
   "source": [
    "import math\n",
    "\n",
    "def grad(x):\n",
    "    return 6 * x + 2 + 4 * math.cos(x)\n",
    "\n",
    "def cost(x):\n",
    "    return 3 * x**2 + 2 * x + 4 * math.sin(x)\n",
    "\n",
    "def GD(eta, x0, t=1e-3, max_i=100):\n",
    "    x = x0\n",
    "    for i in range(max_i):\n",
    "        grad_v = grad(x)\n",
    "        x_new = x - eta * grad_v\n",
    "\n",
    "        if abs(grad(x_new)) < t:\n",
    "            break\n",
    "\n",
    "        x = x_new\n",
    "    return x, cost(x), i\n",
    "\n",
    "if __name__ == \"__main__\":\n",
    "    x1, c1, i1 = GD(0.1, -5)\n",
    "    print('eta = 0.1 và x0 = -5')\n",
    "    print(f'x* = {x1:.6f}, costfunction = {c1:.6f}, {i1} lần lặp\\n')\n",
    "\n",
    "    x2, c2, i2 = GD(0.1, 5)\n",
    "    print('eta = 0.1 và x0 = 5')\n",
    "    print(f'x* = {x2:.6f}, costfunction = {c2:.6f}, {i2} lần lặp\\n')\n",
    "\n",
    "    x3, c3, i3 = GD(0.01, -1)\n",
    "    print('eta = 0.01 và x0 = -1')\n",
    "    print(f'x* = {x3:.6f}, costfunction = {c3:.6f}, {i3} lần lặp\\n')"
   ]
  }
 ],
 "metadata": {
  "kernelspec": {
   "display_name": "Python 3",
   "language": "python",
   "name": "python3"
  },
  "language_info": {
   "codemirror_mode": {
    "name": "ipython",
    "version": 3
   },
   "file_extension": ".py",
   "mimetype": "text/x-python",
   "name": "python",
   "nbconvert_exporter": "python",
   "pygments_lexer": "ipython3",
   "version": "3.12.6"
  }
 },
 "nbformat": 4,
 "nbformat_minor": 2
}
