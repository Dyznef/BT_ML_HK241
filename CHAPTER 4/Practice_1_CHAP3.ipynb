{
 "cells": [
  {
   "cell_type": "code",
   "execution_count": 1,
   "metadata": {},
   "outputs": [],
   "source": [
    "import numpy as np\n",
    "import matplotlib.pyplot as plt\n",
    "from matplotlib.animation import FuncAnimation\n",
    "from IPython.display import HTML\n",
    "import pandas as pd"
   ]
  },
  {
   "cell_type": "code",
   "execution_count": 13,
   "metadata": {},
   "outputs": [],
   "source": [
    "X = np.array([0.245, 0.247, 0.285, 0.299, 0.327, 0.347, 0.356, 0.36, 0.363, 0.364, 0.398, 0.4, 0.409, 0.421,\n",
    "              0.432, 0.473, 0.509, 0.529, 0.561, 0.569, 0.594, 0.638, 0.656, 0.816, 0.853, 0.938, 1.036, 1.045])\n",
    "Y = np.array([0, 0, 1, 1, 1, 1, 0, 1, 0, 1, 0, 1, 0, 1, 0, 1, 1, 1, 0, 0, 1, 1, 1, 1, 1, 1, 1, 1])\n",
    "theta0 = np.random.rand()\n",
    "theta1 = np.random.rand()\n",
    "alpha = 1e-4\n",
    "iterations = 10000"
   ]
  },
  {
   "cell_type": "code",
   "execution_count": 14,
   "metadata": {},
   "outputs": [],
   "source": [
    "# Sigmoid function\n",
    "def sigmoid(z):\n",
    "    return 1 / (1 + np.exp(-z))\n",
    "\n",
    "# Prediction function\n",
    "def pred(theta0, theta1, X):\n",
    "    return sigmoid(theta0 + theta1 * X)\n",
    "\n",
    "# Cost function\n",
    "def cost(X, Y_true, theta0, theta1):\n",
    "    m = len(X)\n",
    "    Y_pred = pred(theta0, theta1, X)\n",
    "    epsilon = 1e-15 \n",
    "    return -(1/m) * np.sum(Y_true * np.log(Y_pred + epsilon) + (1 - Y_true) * np.log(1 - Y_pred + epsilon))\n",
    "\n",
    "# Gradient descent\n",
    "def gradient_descent(X, Y_true, theta0, theta1, alpha, iterations):\n",
    "    m = len(Y_true)\n",
    "    for i in range(iterations):\n",
    "        Y_pred = pred(theta0, theta1, X)\n",
    "        grad0 = (1/m) * np.sum(Y_pred - Y_true)\n",
    "        grad1 = (1/m) * np.sum((Y_pred - Y_true) * X)\n",
    "        \n",
    "        theta0 -= alpha * grad0\n",
    "        theta1 -= alpha * grad1\n",
    "    \n",
    "    return theta0, theta1"
   ]
  },
  {
   "cell_type": "code",
   "execution_count": 17,
   "metadata": {},
   "outputs": [
    {
     "name": "stdout",
     "output_type": "stream",
     "text": [
      "theta0 = 0.326993; theta1 = 0.341796\n"
     ]
    },
    {
     "data": {
      "image/png": "[encoded data removed]",
      "text/plain": [
       "<Figure size 640x480 with 1 Axes>"
      ]
     },
     "metadata": {},
     "output_type": "display_data"
    }
   ],
   "source": [
    "theta0, theta1 = gradient_descent(X, Y, theta0, theta1, alpha, iterations)\n",
    "print(f\"theta0 = {theta0:.6f}; theta1 = {theta1:.6f}\")\n",
    "\n",
    "plt.scatter(X, Y, color='red', label='Data')\n",
    "\n",
    "X_values = np.linspace(min(X), max(X), 100)\n",
    "Y_pred = pred(theta0, theta1, X_values)\n",
    "plt.plot(X_values, Y_pred, color='blue', label=f'Đường hồi quy Logistic')\n",
    "\n",
    "plt.xlabel('Grain size')\n",
    "plt.ylabel('Xác xuất')\n",
    "plt.title('Đồ thị hồi quy logistic')\n",
    "plt.legend()\n",
    "plt.show()"
   ]
  },
  {
   "cell_type": "code",
   "execution_count": 51,
   "metadata": {},
   "outputs": [
    {
     "name": "stdout",
     "output_type": "stream",
     "text": [
      "Với Grain size = 0.12 dự đoán là Có mặt, 0.59\n",
      "Với Grain size = 0.15 dự đoán là Có mặt, 0.59\n",
      "Với Grain size = 0.18 dự đoán là Có mặt, 0.60\n",
      "Với Grain size = 0.21 dự đoán là Có mặt, 0.60\n",
      "Với Grain size = 0.24 dự đoán là Có mặt, 0.60\n",
      "Với Grain size = 0.27 dự đoán là Có mặt, 0.60\n",
      "Với Grain size = 0.3 dự đoán là Có mặt, 0.61\n",
      "Với Grain size = 0.33 dự đoán là Có mặt, 0.61\n",
      "Với Grain size = 0.36 dự đoán là Có mặt, 0.61\n",
      "Với Grain size = 0.39 dự đoán là Có mặt, 0.61\n",
      "Với Grain size = 0.42 dự đoán là Có mặt, 0.62\n",
      "Với Grain size = 0.45 dự đoán là Có mặt, 0.62\n",
      "Với Grain size = 0.48 dự đoán là Có mặt, 0.62\n",
      "Với Grain size = 0.51 dự đoán là Có mặt, 0.62\n",
      "Với Grain size = 0.54 dự đoán là Có mặt, 0.63\n",
      "Với Grain size = 0.57 dự đoán là Có mặt, 0.63\n",
      "Với Grain size = 0.6 dự đoán là Có mặt, 0.63\n",
      "Với Grain size = 0.7 dự đoán là Có mặt, 0.64\n",
      "Với Grain size = 0.8 dự đoán là Có mặt, 0.65\n",
      "Với Grain size = 0.9 dự đoán là Có mặt, 0.65\n",
      "Với Grain size = 1.0 dự đoán là Có mặt, 0.66\n"
     ]
    }
   ],
   "source": [
    "size = np.array([0.12, 0.15, 0.18, 0.21, 0.24, 0.27, 0.30, 0.33, 0.36, 0.39, 0.42, 0.45, 0.48, 0.51, 0.54, 0.57, 0.60, 0.70, 0.80, 0.90, 1.00])\n",
    "predict = sigmoid(theta0 + theta1 * size)\n",
    "\n",
    "for s, p in zip(size, predict):\n",
    "    if p >= 0.5:\n",
    "        kq = \"Có mặt\"\n",
    "    else:\n",
    "        kq = \"Vắng mặt\"\n",
    "    print(f\"Với Grain size = {s} dự đoán là {kq}, {p:.2f}\")"
   ]
  },
  {
   "cell_type": "markdown",
   "metadata": {},
   "source": [
    "HMMM,... Cíuuuu tôiiii"
   ]
  }
 ],
 "metadata": {
  "kernelspec": {
   "display_name": "Python 3",
   "language": "python",
   "name": "python3"
  },
  "language_info": {
   "codemirror_mode": {
    "name": "ipython",
    "version": 3
   },
   "file_extension": ".py",
   "mimetype": "text/x-python",
   "name": "python",
   "nbconvert_exporter": "python",
   "pygments_lexer": "ipython3",
   "version": "3.12.6"
  }
 },
 "nbformat": 4,
 "nbformat_minor": 2
}
