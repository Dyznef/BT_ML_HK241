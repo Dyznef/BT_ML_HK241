{
 "cells": [
  {
   "cell_type": "code",
   "execution_count": 4,
   "metadata": {},
   "outputs": [],
   "source": [
    "import numpy as np\n",
    "import matplotlib.pyplot as plt\n",
    "from matplotlib.animation import FuncAnimation\n",
    "from IPython.display import HTML\n",
    "import pandas as pd"
   ]
  },
  {
   "cell_type": "code",
   "execution_count": 19,
   "metadata": {},
   "outputs": [],
   "source": [
    "X1 = np.array([0.245, 0.247, 0.285, 0.299, 0.327, 0.347, 0.356, 0.36, 0.363, 0.364, 0.398, 0.4,\n",
    "                0.409, 0.421, 0.432, 0.473, 0.509, 0.529, 0.561, 0.569, 0.594, 0.638, 0.656,\n",
    "                0.816, 0.853, 0.938, 1.036, 1.045])\n",
    "X2 = X1**2\n",
    "\n",
    "Y = np.array([0, 0, 1, 1, 1, 1, 0, 1, 0, 1, 0, 1, 0, 1, 0, 1, 1, 1, 0, 0, 1, 1, 1, 1, 1, 1, 1, 1])\n",
    "\n",
    "theta0 = np.random.rand()\n",
    "theta1 = np.random.rand()\n",
    "theta2 = np.random.rand()\n",
    "\n",
    "alpha = 1e-4\n",
    "iterations = 10000\n",
    "lambda_reg = 1 \n"
   ]
  },
  {
   "cell_type": "code",
   "execution_count": 12,
   "metadata": {},
   "outputs": [],
   "source": [
    "# Sigmoid function\n",
    "def sigmoid(z):\n",
    "    return 1 / (1 + np.exp(-z))\n",
    "\n",
    "# Prediction function\n",
    "def pred(theta0, theta1, theta2, X1, X2):\n",
    "    return sigmoid(theta0 + theta1 * X1 + theta2 * X2)\n",
    "\n",
    "# Cost function\n",
    "def cost_function(Y_true, theta0, theta1, theta2):\n",
    "    m = len(Y_true)\n",
    "    Y_pred = pred(theta0, theta1, theta2, X1, X2)\n",
    "    epsilon = 1e-15 \n",
    "    cost = -(1/m) * np.sum(Y_true * np.log(Y_pred + epsilon) + (1 - Y_true) * np.log(1 - Y_pred + epsilon))\n",
    "    \n",
    "# Add L2 regularization term\n",
    "    reg_term = (lambda_reg / (2 * m)) * (theta0**2 + theta1**2 + theta2**2)\n",
    "    cost += reg_term\n",
    "    return cost\n",
    "\n",
    "# Gradient descent\n",
    "def gradient_descent(Y_true, theta0, theta1, theta2, alpha, iterations):\n",
    "    m = len(Y_true)\n",
    "    for i in range(iterations):\n",
    "        Y_pred = pred(theta0, theta1, theta2, X1, X2)\n",
    "        grad0 = (1/m) * np.sum(Y_pred - Y_true) + (lambda_reg / m) * theta0\n",
    "        grad1 = (1/m) * np.sum((Y_pred - Y_true) * X1) + (lambda_reg / m) * theta1\n",
    "        grad2 = (1/m) * np.sum((Y_pred - Y_true) * X2) + (lambda_reg / m) * theta2\n",
    "        \n",
    "        theta0 -= alpha * grad0\n",
    "        theta1 -= alpha * grad1\n",
    "        theta2 -= alpha * grad2\n",
    "    \n",
    "    return theta0, theta1, theta2"
   ]
  },
  {
   "cell_type": "code",
   "execution_count": 23,
   "metadata": {},
   "outputs": [
    {
     "name": "stdout",
     "output_type": "stream",
     "text": [
      "theta0 = 0.242503; theta1 = 0.813969; theta2 = 0.321083\n"
     ]
    },
    {
     "data": {
      "image/png": "[encoded data removed]",
      "text/plain": [
       "<Figure size 640x480 with 1 Axes>"
      ]
     },
     "metadata": {},
     "output_type": "display_data"
    }
   ],
   "source": [
    "# Train the model\n",
    "theta0, theta1, theta2 = gradient_descent(Y, theta0, theta1, theta2, alpha, iterations)\n",
    "print(f\"theta0 = {theta0:.6f}; theta1 = {theta1:.6f}; theta2 = {theta2:.6f}\")\n",
    "\n",
    "# Plotting the results\n",
    "plt.scatter(X1, Y, color='red', label='Data')\n",
    "X_values = np.linspace(min(X1), max(X1), 100)\n",
    "X2_values = X_values**2  # Calculate corresponding X2 values\n",
    "Y_pred = pred(theta0, theta1, theta2, X_values, X2_values)\n",
    "plt.plot(X_values, Y_pred, color='blue', label='Đường hồi quy')\n",
    "\n",
    "plt.xlabel('Grain size (X1)')\n",
    "plt.ylabel('Xác xuất')\n",
    "plt.title('Đồ thị hồi quy')\n",
    "plt.legend()\n",
    "plt.show()"
   ]
  },
  {
   "cell_type": "code",
   "execution_count": 16,
   "metadata": {},
   "outputs": [
    {
     "name": "stdout",
     "output_type": "stream",
     "text": [
      "Với Grain size = 0.12 dự đoán là Có mặt, 0.61\n",
      "Với Grain size = 0.15 dự đoán là Có mặt, 0.61\n",
      "Với Grain size = 0.18 dự đoán là Có mặt, 0.62\n",
      "Với Grain size = 0.21 dự đoán là Có mặt, 0.62\n",
      "Với Grain size = 0.24 dự đoán là Có mặt, 0.63\n",
      "Với Grain size = 0.27 dự đoán là Có mặt, 0.63\n",
      "Với Grain size = 0.3 dự đoán là Có mặt, 0.64\n",
      "Với Grain size = 0.33 dự đoán là Có mặt, 0.64\n",
      "Với Grain size = 0.36 dự đoán là Có mặt, 0.65\n",
      "Với Grain size = 0.39 dự đoán là Có mặt, 0.65\n",
      "Với Grain size = 0.42 dự đoán là Có mặt, 0.66\n",
      "Với Grain size = 0.45 dự đoán là Có mặt, 0.67\n",
      "Với Grain size = 0.48 dự đoán là Có mặt, 0.67\n",
      "Với Grain size = 0.51 dự đoán là Có mặt, 0.68\n",
      "Với Grain size = 0.54 dự đoán là Có mặt, 0.69\n",
      "Với Grain size = 0.57 dự đoán là Có mặt, 0.69\n",
      "Với Grain size = 0.6 dự đoán là Có mặt, 0.70\n",
      "Với Grain size = 0.7 dự đoán là Có mặt, 0.73\n",
      "Với Grain size = 0.8 dự đoán là Có mặt, 0.75\n",
      "Với Grain size = 0.9 dự đoán là Có mặt, 0.78\n",
      "Với Grain size = 1.0 dự đoán là Có mặt, 0.81\n"
     ]
    }
   ],
   "source": [
    "size = np.array([0.12, 0.15, 0.18, 0.21, 0.24, 0.27, 0.30, 0.33, 0.36, 0.39, 0.42, 0.45, 0.48, 0.51, 0.54, 0.57, 0.60, 0.70, 0.80, 0.90, 1.00])\n",
    "predict = sigmoid(theta0 + theta1 * size + theta2 * (size**2))\n",
    "\n",
    "for s, p in zip(size, predict):\n",
    "    if p >= 0.5:\n",
    "        kq = \"Có mặt\"\n",
    "    else:\n",
    "        kq = \"Vắng mặt\"\n",
    "    print(f\"Với Grain size = {s} dự đoán là {kq}, {p:.2f}\")"
   ]
  },
  {
   "cell_type": "markdown",
   "metadata": {},
   "source": [
    "HMMM,... Cíuuuu tôiiii"
   ]
  }
 ],
 "metadata": {
  "kernelspec": {
   "display_name": "venv",
   "language": "python",
   "name": "python3"
  },
  "language_info": {
   "codemirror_mode": {
    "name": "ipython",
    "version": 3
   },
   "file_extension": ".py",
   "mimetype": "text/x-python",
   "name": "python",
   "nbconvert_exporter": "python",
   "pygments_lexer": "ipython3",
   "version": "3.12.7"
  }
 },
 "nbformat": 4,
 "nbformat_minor": 2
}
